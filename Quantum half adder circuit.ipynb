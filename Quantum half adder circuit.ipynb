{
 "cells": [
  {
   "cell_type": "markdown",
   "id": "3916a2b0",
   "metadata": {},
   "source": [
    "# Making a half-adder with Qiskit\n",
    "\n",
    "The half adder is the building block of a general addition operation. It needs to be able to do the binary operations:\n",
    "\n",
    "0 + 0 = 00 <br>\n",
    "0 + 1 = 01 <br>\n",
    "1 + 0 = 01 <br>\n",
    "1 + 1 = 10 <br>\n",
    "\n",
    "To implement this, we first start by using CNOT gates to carry out an effective XOR operation on our two control bits q0 and q1, storing the result in a target bit q2"
   ]
  },
  {
   "cell_type": "code",
   "execution_count": 1,
   "id": "a91d6985",
   "metadata": {},
   "outputs": [
    {
     "data": {
      "image/png": "[encoded data removed]",
      "text/plain": [
       "<Figure size 287.496x451.5 with 1 Axes>"
      ]
     },
     "execution_count": 1,
     "metadata": {},
     "output_type": "execute_result"
    }
   ],
   "source": [
    "# Create quantum circuit with 2 qubits and 2 classical bits\n",
    "from qiskit import QuantumCircuit\n",
    "qc = QuantumCircuit(4, 2)\n",
    "\n",
    "# qc.x([1])  # Set one, both, or neither of the control qubits to 1\n",
    "qc.cx(0,2)  # CNOT controlled by qubit 0 and targeting qubit 2\n",
    "qc.cx(1,2)  # CNOT controlled by qubit 1 and targeting qubit 2\n",
    "qc.measure([2, 3], [0, 1])\n",
    "\n",
    "qc.draw(output='mpl')"
   ]
  },
  {
   "cell_type": "code",
   "execution_count": 27,
   "id": "444314bf",
   "metadata": {},
   "outputs": [
    {
     "name": "stdout",
     "output_type": "stream",
     "text": [
      "Result:  {'00': 1024}\n"
     ]
    }
   ],
   "source": [
    "# Set up simulator\n",
    "from qiskit.providers.aer import AerSimulator\n",
    "sim = AerSimulator()\n",
    "\n",
    "job = sim.run(qc)      # run the experiment\n",
    "result = job.result()  # get the results\n",
    "# interpret the results as a \"counts\" dictionary\n",
    "print(\"Result: \", result.get_counts())"
   ]
  },
  {
   "cell_type": "markdown",
   "id": "fa040be8",
   "metadata": {},
   "source": [
    "We see that the two CNOT gates act as an XOR gate. Each application of the CNOT gate returns 1 if and only if one of the control and target qubits is 1, else 0.\n",
    "\n",
    "0 + 0 = 00 <br>\n",
    "0 + 1 = 01 <br>\n",
    "1 + 0 = 01 <br>\n",
    "1 + 1 = 00\n",
    "\n",
    "This is close to what we want, but 1 + 1 = 10 not 00.\n",
    "\n",
    "To fix this, we ask the computer to check if both of the control cubits are in state 1. If they are, we flip the first 'digit' from 0 to one. This is just performing a Boolean AND operation; we do this by applying the Toffoli gate, controlled by both q0 and q1, and targeting q3.\n",
    "\n",
    "Thus, the least-significant digit (2^0) of the output is encoded in the state of the target qubit q2, and the next most significant digit (2^1) in the state of q3."
   ]
  },
  {
   "cell_type": "code",
   "execution_count": 30,
   "id": "fe358a4c",
   "metadata": {},
   "outputs": [
    {
     "data": {
      "image/png": "[encoded data removed]",
      "text/plain": [
       "<Figure size 621.941x451.5 with 1 Axes>"
      ]
     },
     "execution_count": 30,
     "metadata": {},
     "output_type": "execute_result"
    }
   ],
   "source": [
    "qc.clear()\n",
    "\n",
    "qc.x([0, 1])       # Set one, both, or neither of the control qubits to \n",
    "qc.cx(0,2)       # CNOT controlled by qubit 0 and targeting qubit 2\n",
    "qc.cx(1,2)       # CNOT controlled by qubit 1 and targeting qubit 2\n",
    "qc.ccx(0, 1, 3)  # Toffoli gate controlled by qubits 0, 1 and targeting qubit 3\n",
    "\n",
    "qc.measure([2, 3], [0, 1])\n",
    "\n",
    "qc.draw(output='mpl')"
   ]
  },
  {
   "cell_type": "code",
   "execution_count": 32,
   "id": "8e3e4bc0",
   "metadata": {},
   "outputs": [
    {
     "name": "stdout",
     "output_type": "stream",
     "text": [
      "Result:  {'10': 1024}\n"
     ]
    }
   ],
   "source": [
    "job = sim.run(qc)      # run the experiment\n",
    "result = job.result()  # get the results\n",
    "# interpret the results as a \"counts\" dictionary\n",
    "print(\"Result: \", result.get_counts())"
   ]
  },
  {
   "cell_type": "markdown",
   "id": "fdefb5e1",
   "metadata": {},
   "source": [
    "Now we have added the Toffoli gate, we have a working half adder! We can layer many of these to add arbitrary numbers"
   ]
  },
  {
   "cell_type": "code",
   "execution_count": null,
   "id": "26993f38",
   "metadata": {},
   "outputs": [],
   "source": []
  }
 ],
 "metadata": {
  "kernelspec": {
   "display_name": "Python 3 (ipykernel)",
   "language": "python",
   "name": "python3"
  },
  "language_info": {
   "codemirror_mode": {
    "name": "ipython",
    "version": 3
   },
   "file_extension": ".py",
   "mimetype": "text/x-python",
   "name": "python",
   "nbconvert_exporter": "python",
   "pygments_lexer": "ipython3",
   "version": "3.9.13"
  }
 },
 "nbformat": 4,
 "nbformat_minor": 5
}
